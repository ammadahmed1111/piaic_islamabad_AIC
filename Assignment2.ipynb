{
 "cells": [
  {
   "cell_type": "code",
   "execution_count": 2,
   "metadata": {},
   "outputs": [
    {
     "name": "stdout",
     "output_type": "stream",
     "text": [
      "who is it Man himself, his friend or girl.\n",
      "role \n",
      "man\n",
      "Wife arrives or not --> press y in case of yes and press n in case of no\n",
      "n\n",
      "Now this is direct marketing\n",
      "what is the response\n",
      "She slap you or introduces her HUSBAND\n",
      "slap\n",
      "this is customer feedback\n"
     ]
    }
   ],
   "source": [
    "print(\"who is it Man himself, his friend or girl.\")\n",
    "role=input(\"role \\n\")\n",
    "rich=True\n",
    "print(\"Wife arrives or not --> press y in case of yes and press n in case of no\")\n",
    "info=input()\n",
    "if(info=='y'):\n",
    "    print(\"restrictions\")\n",
    "elif(info=='n'):\n",
    "    if (rich==True):\n",
    "        if(role=='friend'):\n",
    "            print(\"this is advertisement\")\n",
    "        elif(role=='girl'):\n",
    "            print(\"This is brand recognition\")\n",
    "        elif(role=='man'):\n",
    "            print(\"Now this is direct marketing\\nwhat is the response\")\n",
    "            response=input(\"She slap you or introduces her HUSBAND\\n\")\n",
    "            if(response=='slap'):\n",
    "                print(\"this is customer feedback\")\n",
    "            else:\n",
    "                print(\"there is demand supply gap\")"
   ]
  },
  {
   "cell_type": "code",
   "execution_count": null,
   "metadata": {},
   "outputs": [],
   "source": []
  }
 ],
 "metadata": {
  "kernelspec": {
   "display_name": "Python 3",
   "language": "python",
   "name": "python3"
  },
  "language_info": {
   "codemirror_mode": {
    "name": "ipython",
    "version": 3
   },
   "file_extension": ".py",
   "mimetype": "text/x-python",
   "name": "python",
   "nbconvert_exporter": "python",
   "pygments_lexer": "ipython3",
   "version": "3.7.4"
  }
 },
 "nbformat": 4,
 "nbformat_minor": 2
}
